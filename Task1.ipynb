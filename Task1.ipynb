{
 "cells": [
  {
   "cell_type": "code",
   "execution_count": 4,
   "id": "8478ca41",
   "metadata": {},
   "outputs": [
    {
     "name": "stdout",
     "output_type": "stream",
     "text": [
      "\u001b[0m\u001b[01;32mTest_AI_2022_en.pdf\u001b[0m*  \u001b[01;32mtest_set_data.csv\u001b[0m*  \u001b[01;32mtrain_set_data.csv\u001b[0m*\r\n"
     ]
    }
   ],
   "source": [
    "ls"
   ]
  },
  {
   "cell_type": "code",
   "execution_count": 5,
   "id": "161f8989",
   "metadata": {},
   "outputs": [],
   "source": [
    "import pandas as pd\n",
    "import numpy as np"
   ]
  },
  {
   "cell_type": "code",
   "execution_count": 6,
   "id": "7fc516ac",
   "metadata": {},
   "outputs": [],
   "source": [
    "df_train = pd.read_csv(\"train_set_data.csv\")"
   ]
  },
  {
   "cell_type": "code",
   "execution_count": 7,
   "id": "053d02ca",
   "metadata": {},
   "outputs": [
    {
     "data": {
      "text/html": [
       "<div>\n",
       "<style scoped>\n",
       "    .dataframe tbody tr th:only-of-type {\n",
       "        vertical-align: middle;\n",
       "    }\n",
       "\n",
       "    .dataframe tbody tr th {\n",
       "        vertical-align: top;\n",
       "    }\n",
       "\n",
       "    .dataframe thead th {\n",
       "        text-align: right;\n",
       "    }\n",
       "</style>\n",
       "<table border=\"1\" class=\"dataframe\">\n",
       "  <thead>\n",
       "    <tr style=\"text-align: right;\">\n",
       "      <th></th>\n",
       "      <th>SMILES</th>\n",
       "      <th>Activity</th>\n",
       "    </tr>\n",
       "  </thead>\n",
       "  <tbody>\n",
       "    <tr>\n",
       "      <th>0</th>\n",
       "      <td>Nc1ccccc1NC(=O)c2ccc(CNc3nccc(n3)c4cccnc4)cc2</td>\n",
       "      <td>2.28</td>\n",
       "    </tr>\n",
       "    <tr>\n",
       "      <th>1</th>\n",
       "      <td>CCNC(=O)c1cc2c(c(cnc2[nH]1)c3cncc(c3)C(=O)O)n4...</td>\n",
       "      <td>-0.99</td>\n",
       "    </tr>\n",
       "    <tr>\n",
       "      <th>2</th>\n",
       "      <td>Cc1cc(Cl)ccc1OC2CCN(C[C@H](O)CNC(=O)C3=CNC(=O)...</td>\n",
       "      <td>2.37</td>\n",
       "    </tr>\n",
       "    <tr>\n",
       "      <th>3</th>\n",
       "      <td>COc1ccc(cc1OC)C(C)NC(=O)C2(N)CCN(CC2)c3ncnc4[n...</td>\n",
       "      <td>1.80</td>\n",
       "    </tr>\n",
       "    <tr>\n",
       "      <th>4</th>\n",
       "      <td>C[C@@H](N)COc1c(C)cccc1C</td>\n",
       "      <td>0.60</td>\n",
       "    </tr>\n",
       "  </tbody>\n",
       "</table>\n",
       "</div>"
      ],
      "text/plain": [
       "                                              SMILES  Activity\n",
       "0      Nc1ccccc1NC(=O)c2ccc(CNc3nccc(n3)c4cccnc4)cc2      2.28\n",
       "1  CCNC(=O)c1cc2c(c(cnc2[nH]1)c3cncc(c3)C(=O)O)n4...     -0.99\n",
       "2  Cc1cc(Cl)ccc1OC2CCN(C[C@H](O)CNC(=O)C3=CNC(=O)...      2.37\n",
       "3  COc1ccc(cc1OC)C(C)NC(=O)C2(N)CCN(CC2)c3ncnc4[n...      1.80\n",
       "4                           C[C@@H](N)COc1c(C)cccc1C      0.60"
      ]
     },
     "execution_count": 7,
     "metadata": {},
     "output_type": "execute_result"
    }
   ],
   "source": [
    "df_train.head()"
   ]
  },
  {
   "cell_type": "code",
   "execution_count": 8,
   "id": "90a5bb31",
   "metadata": {},
   "outputs": [
    {
     "data": {
      "text/plain": [
       "(3351, 2)"
      ]
     },
     "execution_count": 8,
     "metadata": {},
     "output_type": "execute_result"
    }
   ],
   "source": [
    "df_train.shape"
   ]
  },
  {
   "cell_type": "code",
   "execution_count": 9,
   "id": "60918692",
   "metadata": {},
   "outputs": [],
   "source": [
    "df_test = pd.read_csv(\"test_set_data.csv\")"
   ]
  },
  {
   "cell_type": "code",
   "execution_count": 10,
   "id": "7f97c087",
   "metadata": {},
   "outputs": [
    {
     "data": {
      "text/html": [
       "<div>\n",
       "<style scoped>\n",
       "    .dataframe tbody tr th:only-of-type {\n",
       "        vertical-align: middle;\n",
       "    }\n",
       "\n",
       "    .dataframe tbody tr th {\n",
       "        vertical-align: top;\n",
       "    }\n",
       "\n",
       "    .dataframe thead th {\n",
       "        text-align: right;\n",
       "    }\n",
       "</style>\n",
       "<table border=\"1\" class=\"dataframe\">\n",
       "  <thead>\n",
       "    <tr style=\"text-align: right;\">\n",
       "      <th></th>\n",
       "      <th>SMILES</th>\n",
       "    </tr>\n",
       "  </thead>\n",
       "  <tbody>\n",
       "    <tr>\n",
       "      <th>0</th>\n",
       "      <td>C[C@H]1O[C@H]([C@H](O)[C@@H]1O)n2cnc3c(N)nc(Oc...</td>\n",
       "    </tr>\n",
       "    <tr>\n",
       "      <th>1</th>\n",
       "      <td>CCCCNc1cc(cc(c1Oc2ccccc2)S(=O)(=O)N)C(=O)O</td>\n",
       "    </tr>\n",
       "    <tr>\n",
       "      <th>2</th>\n",
       "      <td>FC(F)(F)c1ccc2[nH]c3CCN(Cc3c2c1)C(=O)[C@@H]4CC...</td>\n",
       "    </tr>\n",
       "    <tr>\n",
       "      <th>3</th>\n",
       "      <td>CCN(CC)CCNC(=O)c1c(C)[nH]c(\\C=C\\2/C(=O)Nc3ccc(...</td>\n",
       "    </tr>\n",
       "    <tr>\n",
       "      <th>4</th>\n",
       "      <td>OC1(CCN(CCCC(=O)c2ccc(F)cc2)CC1)c3ccc(Cl)cc3</td>\n",
       "    </tr>\n",
       "  </tbody>\n",
       "</table>\n",
       "</div>"
      ],
      "text/plain": [
       "                                              SMILES\n",
       "0  C[C@H]1O[C@H]([C@H](O)[C@@H]1O)n2cnc3c(N)nc(Oc...\n",
       "1         CCCCNc1cc(cc(c1Oc2ccccc2)S(=O)(=O)N)C(=O)O\n",
       "2  FC(F)(F)c1ccc2[nH]c3CCN(Cc3c2c1)C(=O)[C@@H]4CC...\n",
       "3  CCN(CC)CCNC(=O)c1c(C)[nH]c(\\C=C\\2/C(=O)Nc3ccc(...\n",
       "4       OC1(CCN(CCCC(=O)c2ccc(F)cc2)CC1)c3ccc(Cl)cc3"
      ]
     },
     "execution_count": 10,
     "metadata": {},
     "output_type": "execute_result"
    }
   ],
   "source": [
    "df_test.head()"
   ]
  },
  {
   "cell_type": "code",
   "execution_count": 11,
   "id": "b41947c6",
   "metadata": {},
   "outputs": [
    {
     "data": {
      "text/plain": [
       "(837, 1)"
      ]
     },
     "execution_count": 11,
     "metadata": {},
     "output_type": "execute_result"
    }
   ],
   "source": [
    "df_test.shape"
   ]
  },
  {
   "cell_type": "markdown",
   "id": "8a93b46f",
   "metadata": {},
   "source": [
    "we have to predict the activity of the molecules of the test set, it's a regression task."
   ]
  },
  {
   "cell_type": "code",
   "execution_count": 12,
   "id": "307adc95",
   "metadata": {},
   "outputs": [],
   "source": [
    "from rdkit import Chem\n",
    "from rdkit.Chem import AllChem"
   ]
  },
  {
   "cell_type": "code",
   "execution_count": 13,
   "id": "9b2eddec",
   "metadata": {},
   "outputs": [],
   "source": [
    "activity = df_train[\"Activity\"]"
   ]
  },
  {
   "cell_type": "code",
   "execution_count": 14,
   "id": "51fb3461",
   "metadata": {},
   "outputs": [
    {
     "data": {
      "text/plain": [
       "0       2.28\n",
       "1      -0.99\n",
       "2       2.37\n",
       "3       1.80\n",
       "4       0.60\n",
       "        ... \n",
       "3346    4.20\n",
       "3347    2.06\n",
       "3348    1.90\n",
       "3349    1.80\n",
       "3350    1.54\n",
       "Name: Activity, Length: 3351, dtype: float64"
      ]
     },
     "execution_count": 14,
     "metadata": {},
     "output_type": "execute_result"
    }
   ],
   "source": [
    "activity"
   ]
  },
  {
   "cell_type": "code",
   "execution_count": 15,
   "id": "9ca0c1ef",
   "metadata": {},
   "outputs": [],
   "source": [
    "jit_activity = pd.DataFrame(activity)"
   ]
  },
  {
   "cell_type": "code",
   "execution_count": 16,
   "id": "a7674ff7",
   "metadata": {},
   "outputs": [
    {
     "data": {
      "text/plain": [
       "(3351, 1)"
      ]
     },
     "execution_count": 16,
     "metadata": {},
     "output_type": "execute_result"
    }
   ],
   "source": [
    "jit_activity.shape"
   ]
  },
  {
   "cell_type": "code",
   "execution_count": 31,
   "id": "8d6d79cc",
   "metadata": {},
   "outputs": [
    {
     "data": {
      "text/html": [
       "<div>\n",
       "<style scoped>\n",
       "    .dataframe tbody tr th:only-of-type {\n",
       "        vertical-align: middle;\n",
       "    }\n",
       "\n",
       "    .dataframe tbody tr th {\n",
       "        vertical-align: top;\n",
       "    }\n",
       "\n",
       "    .dataframe thead th {\n",
       "        text-align: right;\n",
       "    }\n",
       "</style>\n",
       "<table border=\"1\" class=\"dataframe\">\n",
       "  <thead>\n",
       "    <tr style=\"text-align: right;\">\n",
       "      <th></th>\n",
       "      <th>Activity</th>\n",
       "    </tr>\n",
       "  </thead>\n",
       "  <tbody>\n",
       "    <tr>\n",
       "      <th>0</th>\n",
       "      <td>2.28</td>\n",
       "    </tr>\n",
       "    <tr>\n",
       "      <th>1</th>\n",
       "      <td>-0.99</td>\n",
       "    </tr>\n",
       "    <tr>\n",
       "      <th>2</th>\n",
       "      <td>2.37</td>\n",
       "    </tr>\n",
       "    <tr>\n",
       "      <th>3</th>\n",
       "      <td>1.80</td>\n",
       "    </tr>\n",
       "    <tr>\n",
       "      <th>4</th>\n",
       "      <td>0.60</td>\n",
       "    </tr>\n",
       "  </tbody>\n",
       "</table>\n",
       "</div>"
      ],
      "text/plain": [
       "   Activity\n",
       "0      2.28\n",
       "1     -0.99\n",
       "2      2.37\n",
       "3      1.80\n",
       "4      0.60"
      ]
     },
     "execution_count": 31,
     "metadata": {},
     "output_type": "execute_result"
    }
   ],
   "source": [
    "jit_activity.head()"
   ]
  },
  {
   "cell_type": "code",
   "execution_count": null,
   "id": "5253a107",
   "metadata": {},
   "outputs": [],
   "source": []
  },
  {
   "cell_type": "code",
   "execution_count": null,
   "id": "cd7a9939",
   "metadata": {},
   "outputs": [],
   "source": []
  },
  {
   "cell_type": "code",
   "execution_count": 17,
   "id": "24f380a3",
   "metadata": {},
   "outputs": [],
   "source": [
    "train_smiles = df_train['SMILES']\n",
    "test_smiles = df_test['SMILES']"
   ]
  },
  {
   "cell_type": "code",
   "execution_count": 18,
   "id": "2be6f536",
   "metadata": {},
   "outputs": [
    {
     "data": {
      "text/plain": [
       "0           Nc1ccccc1NC(=O)c2ccc(CNc3nccc(n3)c4cccnc4)cc2\n",
       "1       CCNC(=O)c1cc2c(c(cnc2[nH]1)c3cncc(c3)C(=O)O)n4...\n",
       "2       Cc1cc(Cl)ccc1OC2CCN(C[C@H](O)CNC(=O)C3=CNC(=O)...\n",
       "3       COc1ccc(cc1OC)C(C)NC(=O)C2(N)CCN(CC2)c3ncnc4[n...\n",
       "4                                C[C@@H](N)COc1c(C)cccc1C\n",
       "                              ...                        \n",
       "3346    COc1cc(ccc1Nc2ncc(Cl)c(n2)c3cnc4cc(Cl)ccn34)N5...\n",
       "3347    CN1CCN(CC1)c2ccc3N=CN(C(=O)c3c2)c4cc(NC(=O)c5c...\n",
       "3348                            COc1cnc(nc1N(C)C)c2ccccn2\n",
       "3349    CN(C1CCN(Cc2ccc(nc2)C(F)(F)F)CC1)C(=O)Cc3ccc(c...\n",
       "3350              CCSc1ccc(cc1)c2cc(ccc2OCC(=O)O)C(F)(F)F\n",
       "Name: SMILES, Length: 3351, dtype: object"
      ]
     },
     "execution_count": 18,
     "metadata": {},
     "output_type": "execute_result"
    }
   ],
   "source": [
    "train_smiles"
   ]
  },
  {
   "cell_type": "code",
   "execution_count": 19,
   "id": "b59c94d7",
   "metadata": {},
   "outputs": [],
   "source": [
    "train_fps = [AllChem.GetMorganFingerprintAsBitVect(Chem.MolFromSmiles(smiles), 2) for smiles in train_smiles]\n",
    "test_fps = [AllChem.GetMorganFingerprintAsBitVect(Chem.MolFromSmiles(smiles), 2) for smiles in test_smiles]"
   ]
  },
  {
   "cell_type": "code",
   "execution_count": 20,
   "id": "761789fb",
   "metadata": {},
   "outputs": [],
   "source": [
    "train_fps = np.asarray(train_fps)\n",
    "test_fps = np.asarray(test_fps)"
   ]
  },
  {
   "cell_type": "code",
   "execution_count": 21,
   "id": "4aea941e",
   "metadata": {},
   "outputs": [
    {
     "data": {
      "text/plain": [
       "(3351, 2048)"
      ]
     },
     "execution_count": 21,
     "metadata": {},
     "output_type": "execute_result"
    }
   ],
   "source": [
    "train_fps.shape"
   ]
  },
  {
   "cell_type": "code",
   "execution_count": 22,
   "id": "dc6faaf5",
   "metadata": {},
   "outputs": [
    {
     "data": {
      "text/plain": [
       "(837, 2048)"
      ]
     },
     "execution_count": 22,
     "metadata": {},
     "output_type": "execute_result"
    }
   ],
   "source": [
    "test_fps.shape"
   ]
  },
  {
   "cell_type": "code",
   "execution_count": 23,
   "id": "66974f9a",
   "metadata": {},
   "outputs": [],
   "source": [
    "jit_train = pd.DataFrame(train_fps)"
   ]
  },
  {
   "cell_type": "code",
   "execution_count": 24,
   "id": "d08a0fe4",
   "metadata": {},
   "outputs": [
    {
     "data": {
      "text/plain": [
       "(3351, 2048)"
      ]
     },
     "execution_count": 24,
     "metadata": {},
     "output_type": "execute_result"
    }
   ],
   "source": [
    "jit_train.shape"
   ]
  },
  {
   "cell_type": "code",
   "execution_count": 25,
   "id": "57025eb8",
   "metadata": {},
   "outputs": [
    {
     "name": "stdout",
     "output_type": "stream",
     "text": [
      "Index(['fp1', 'fp2', 'fp3', 'fp4', 'fp5', 'fp6', 'fp7', 'fp8', 'fp9', 'fp10',\n",
      "       ...\n",
      "       'fp2039', 'fp2040', 'fp2041', 'fp2042', 'fp2043', 'fp2044', 'fp2045',\n",
      "       'fp2046', 'fp2047', 'fp2048'],\n",
      "      dtype='object', length=2048)\n"
     ]
    }
   ],
   "source": [
    "import pandas as pd\n",
    "\n",
    "# Assuming your DataFrame is named \"jit_train\"\n",
    "num_columns = 2048\n",
    "\n",
    "# Create a list of column names\n",
    "column_names = [f'fp{i+1}' for i in range(num_columns)]\n",
    "\n",
    "# Assign the column names to the DataFrame\n",
    "jit_train.columns = column_names\n",
    "\n",
    "# Verify the column names\n",
    "print(jit_train.columns)\n"
   ]
  },
  {
   "cell_type": "code",
   "execution_count": 26,
   "id": "a9b537f1",
   "metadata": {},
   "outputs": [
    {
     "data": {
      "text/html": [
       "<div>\n",
       "<style scoped>\n",
       "    .dataframe tbody tr th:only-of-type {\n",
       "        vertical-align: middle;\n",
       "    }\n",
       "\n",
       "    .dataframe tbody tr th {\n",
       "        vertical-align: top;\n",
       "    }\n",
       "\n",
       "    .dataframe thead th {\n",
       "        text-align: right;\n",
       "    }\n",
       "</style>\n",
       "<table border=\"1\" class=\"dataframe\">\n",
       "  <thead>\n",
       "    <tr style=\"text-align: right;\">\n",
       "      <th></th>\n",
       "      <th>fp1</th>\n",
       "      <th>fp2</th>\n",
       "      <th>fp3</th>\n",
       "      <th>fp4</th>\n",
       "      <th>fp5</th>\n",
       "      <th>fp6</th>\n",
       "      <th>fp7</th>\n",
       "      <th>fp8</th>\n",
       "      <th>fp9</th>\n",
       "      <th>fp10</th>\n",
       "      <th>...</th>\n",
       "      <th>fp2039</th>\n",
       "      <th>fp2040</th>\n",
       "      <th>fp2041</th>\n",
       "      <th>fp2042</th>\n",
       "      <th>fp2043</th>\n",
       "      <th>fp2044</th>\n",
       "      <th>fp2045</th>\n",
       "      <th>fp2046</th>\n",
       "      <th>fp2047</th>\n",
       "      <th>fp2048</th>\n",
       "    </tr>\n",
       "  </thead>\n",
       "  <tbody>\n",
       "    <tr>\n",
       "      <th>0</th>\n",
       "      <td>0</td>\n",
       "      <td>0</td>\n",
       "      <td>0</td>\n",
       "      <td>0</td>\n",
       "      <td>0</td>\n",
       "      <td>0</td>\n",
       "      <td>0</td>\n",
       "      <td>0</td>\n",
       "      <td>0</td>\n",
       "      <td>0</td>\n",
       "      <td>...</td>\n",
       "      <td>0</td>\n",
       "      <td>0</td>\n",
       "      <td>0</td>\n",
       "      <td>0</td>\n",
       "      <td>0</td>\n",
       "      <td>0</td>\n",
       "      <td>0</td>\n",
       "      <td>0</td>\n",
       "      <td>0</td>\n",
       "      <td>0</td>\n",
       "    </tr>\n",
       "    <tr>\n",
       "      <th>1</th>\n",
       "      <td>0</td>\n",
       "      <td>0</td>\n",
       "      <td>0</td>\n",
       "      <td>0</td>\n",
       "      <td>0</td>\n",
       "      <td>0</td>\n",
       "      <td>0</td>\n",
       "      <td>0</td>\n",
       "      <td>0</td>\n",
       "      <td>0</td>\n",
       "      <td>...</td>\n",
       "      <td>0</td>\n",
       "      <td>0</td>\n",
       "      <td>0</td>\n",
       "      <td>0</td>\n",
       "      <td>0</td>\n",
       "      <td>0</td>\n",
       "      <td>0</td>\n",
       "      <td>0</td>\n",
       "      <td>0</td>\n",
       "      <td>0</td>\n",
       "    </tr>\n",
       "    <tr>\n",
       "      <th>2</th>\n",
       "      <td>0</td>\n",
       "      <td>1</td>\n",
       "      <td>0</td>\n",
       "      <td>0</td>\n",
       "      <td>0</td>\n",
       "      <td>0</td>\n",
       "      <td>0</td>\n",
       "      <td>0</td>\n",
       "      <td>0</td>\n",
       "      <td>0</td>\n",
       "      <td>...</td>\n",
       "      <td>1</td>\n",
       "      <td>0</td>\n",
       "      <td>0</td>\n",
       "      <td>0</td>\n",
       "      <td>0</td>\n",
       "      <td>0</td>\n",
       "      <td>0</td>\n",
       "      <td>0</td>\n",
       "      <td>0</td>\n",
       "      <td>0</td>\n",
       "    </tr>\n",
       "    <tr>\n",
       "      <th>3</th>\n",
       "      <td>0</td>\n",
       "      <td>1</td>\n",
       "      <td>0</td>\n",
       "      <td>0</td>\n",
       "      <td>0</td>\n",
       "      <td>0</td>\n",
       "      <td>0</td>\n",
       "      <td>0</td>\n",
       "      <td>0</td>\n",
       "      <td>0</td>\n",
       "      <td>...</td>\n",
       "      <td>0</td>\n",
       "      <td>0</td>\n",
       "      <td>0</td>\n",
       "      <td>0</td>\n",
       "      <td>0</td>\n",
       "      <td>0</td>\n",
       "      <td>0</td>\n",
       "      <td>0</td>\n",
       "      <td>0</td>\n",
       "      <td>0</td>\n",
       "    </tr>\n",
       "    <tr>\n",
       "      <th>4</th>\n",
       "      <td>0</td>\n",
       "      <td>1</td>\n",
       "      <td>0</td>\n",
       "      <td>0</td>\n",
       "      <td>0</td>\n",
       "      <td>0</td>\n",
       "      <td>0</td>\n",
       "      <td>0</td>\n",
       "      <td>0</td>\n",
       "      <td>0</td>\n",
       "      <td>...</td>\n",
       "      <td>0</td>\n",
       "      <td>0</td>\n",
       "      <td>0</td>\n",
       "      <td>0</td>\n",
       "      <td>0</td>\n",
       "      <td>0</td>\n",
       "      <td>0</td>\n",
       "      <td>0</td>\n",
       "      <td>0</td>\n",
       "      <td>0</td>\n",
       "    </tr>\n",
       "  </tbody>\n",
       "</table>\n",
       "<p>5 rows × 2048 columns</p>\n",
       "</div>"
      ],
      "text/plain": [
       "   fp1  fp2  fp3  fp4  fp5  fp6  fp7  fp8  fp9  fp10  ...  fp2039  fp2040  \\\n",
       "0    0    0    0    0    0    0    0    0    0     0  ...       0       0   \n",
       "1    0    0    0    0    0    0    0    0    0     0  ...       0       0   \n",
       "2    0    1    0    0    0    0    0    0    0     0  ...       1       0   \n",
       "3    0    1    0    0    0    0    0    0    0     0  ...       0       0   \n",
       "4    0    1    0    0    0    0    0    0    0     0  ...       0       0   \n",
       "\n",
       "   fp2041  fp2042  fp2043  fp2044  fp2045  fp2046  fp2047  fp2048  \n",
       "0       0       0       0       0       0       0       0       0  \n",
       "1       0       0       0       0       0       0       0       0  \n",
       "2       0       0       0       0       0       0       0       0  \n",
       "3       0       0       0       0       0       0       0       0  \n",
       "4       0       0       0       0       0       0       0       0  \n",
       "\n",
       "[5 rows x 2048 columns]"
      ]
     },
     "execution_count": 26,
     "metadata": {},
     "output_type": "execute_result"
    }
   ],
   "source": [
    "jit_train.head()"
   ]
  },
  {
   "cell_type": "code",
   "execution_count": null,
   "id": "6f6ec285",
   "metadata": {},
   "outputs": [],
   "source": []
  },
  {
   "cell_type": "code",
   "execution_count": 27,
   "id": "9b563b4d",
   "metadata": {},
   "outputs": [],
   "source": [
    "jit_test = pd.DataFrame(test_fps)"
   ]
  },
  {
   "cell_type": "code",
   "execution_count": 28,
   "id": "8191d543",
   "metadata": {},
   "outputs": [
    {
     "data": {
      "text/plain": [
       "(837, 2048)"
      ]
     },
     "execution_count": 28,
     "metadata": {},
     "output_type": "execute_result"
    }
   ],
   "source": [
    "jit_test.shape"
   ]
  },
  {
   "cell_type": "code",
   "execution_count": 29,
   "id": "37cf8d54",
   "metadata": {},
   "outputs": [
    {
     "name": "stdout",
     "output_type": "stream",
     "text": [
      "Index(['fp1', 'fp2', 'fp3', 'fp4', 'fp5', 'fp6', 'fp7', 'fp8', 'fp9', 'fp10',\n",
      "       ...\n",
      "       'fp2039', 'fp2040', 'fp2041', 'fp2042', 'fp2043', 'fp2044', 'fp2045',\n",
      "       'fp2046', 'fp2047', 'fp2048'],\n",
      "      dtype='object', length=2048)\n"
     ]
    }
   ],
   "source": [
    "import pandas as pd\n",
    "\n",
    "# Assuming your DataFrame is named \"jit_train\"\n",
    "num_columns = 2048\n",
    "\n",
    "# Create a list of column names\n",
    "column_names = [f'fp{i+1}' for i in range(num_columns)]\n",
    "\n",
    "# Assign the column names to the DataFrame\n",
    "jit_test.columns = column_names\n",
    "\n",
    "# Verify the column names\n",
    "print(jit_test.columns)\n"
   ]
  },
  {
   "cell_type": "code",
   "execution_count": null,
   "id": "c71a121f",
   "metadata": {},
   "outputs": [],
   "source": []
  },
  {
   "cell_type": "code",
   "execution_count": 36,
   "id": "219a85f8",
   "metadata": {},
   "outputs": [
    {
     "name": "stdout",
     "output_type": "stream",
     "text": [
      "   fp1  fp2  fp3  fp4  fp5  fp6  fp7  fp8  fp9  fp10  ...  fp2040  fp2041  \\\n",
      "0    0    0    0    0    0    0    0    0    0     0  ...       0       0   \n",
      "1    0    0    0    0    0    0    0    0    0     0  ...       0       0   \n",
      "2    0    1    0    0    0    0    0    0    0     0  ...       0       0   \n",
      "3    0    1    0    0    0    0    0    0    0     0  ...       0       0   \n",
      "4    0    1    0    0    0    0    0    0    0     0  ...       0       0   \n",
      "\n",
      "   fp2042  fp2043  fp2044  fp2045  fp2046  fp2047  fp2048  Activity  \n",
      "0       0       0       0       0       0       0       0      2.28  \n",
      "1       0       0       0       0       0       0       0     -0.99  \n",
      "2       0       0       0       0       0       0       0      2.37  \n",
      "3       0       0       0       0       0       0       0      1.80  \n",
      "4       0       0       0       0       0       0       0      0.60  \n",
      "\n",
      "[5 rows x 2049 columns]\n"
     ]
    }
   ],
   "source": [
    "import pandas as pd\n",
    "\n",
    "# Assuming you have DataFrames named \"jit_train\" and \"jit_activity\"\n",
    "\n",
    "# Concatenate the DataFrames vertically (along rows)\n",
    "concatenated_df = pd.concat([jit_train, jit_activity], axis=1)\n",
    "\n",
    "# Reset the index of the concatenated DataFrame\n",
    "#concatenated_df.reset_index(drop=True, inplace=True)\n",
    "\n",
    "# Verify the concatenated DataFrame\n",
    "print(concatenated_df.head())"
   ]
  },
  {
   "cell_type": "code",
   "execution_count": 37,
   "id": "2bb036d2",
   "metadata": {},
   "outputs": [
    {
     "data": {
      "text/html": [
       "<div>\n",
       "<style scoped>\n",
       "    .dataframe tbody tr th:only-of-type {\n",
       "        vertical-align: middle;\n",
       "    }\n",
       "\n",
       "    .dataframe tbody tr th {\n",
       "        vertical-align: top;\n",
       "    }\n",
       "\n",
       "    .dataframe thead th {\n",
       "        text-align: right;\n",
       "    }\n",
       "</style>\n",
       "<table border=\"1\" class=\"dataframe\">\n",
       "  <thead>\n",
       "    <tr style=\"text-align: right;\">\n",
       "      <th></th>\n",
       "      <th>fp1</th>\n",
       "      <th>fp2</th>\n",
       "      <th>fp3</th>\n",
       "      <th>fp4</th>\n",
       "      <th>fp5</th>\n",
       "      <th>fp6</th>\n",
       "      <th>fp7</th>\n",
       "      <th>fp8</th>\n",
       "      <th>fp9</th>\n",
       "      <th>fp10</th>\n",
       "      <th>...</th>\n",
       "      <th>fp2040</th>\n",
       "      <th>fp2041</th>\n",
       "      <th>fp2042</th>\n",
       "      <th>fp2043</th>\n",
       "      <th>fp2044</th>\n",
       "      <th>fp2045</th>\n",
       "      <th>fp2046</th>\n",
       "      <th>fp2047</th>\n",
       "      <th>fp2048</th>\n",
       "      <th>Activity</th>\n",
       "    </tr>\n",
       "  </thead>\n",
       "  <tbody>\n",
       "    <tr>\n",
       "      <th>0</th>\n",
       "      <td>0</td>\n",
       "      <td>0</td>\n",
       "      <td>0</td>\n",
       "      <td>0</td>\n",
       "      <td>0</td>\n",
       "      <td>0</td>\n",
       "      <td>0</td>\n",
       "      <td>0</td>\n",
       "      <td>0</td>\n",
       "      <td>0</td>\n",
       "      <td>...</td>\n",
       "      <td>0</td>\n",
       "      <td>0</td>\n",
       "      <td>0</td>\n",
       "      <td>0</td>\n",
       "      <td>0</td>\n",
       "      <td>0</td>\n",
       "      <td>0</td>\n",
       "      <td>0</td>\n",
       "      <td>0</td>\n",
       "      <td>2.28</td>\n",
       "    </tr>\n",
       "    <tr>\n",
       "      <th>1</th>\n",
       "      <td>0</td>\n",
       "      <td>0</td>\n",
       "      <td>0</td>\n",
       "      <td>0</td>\n",
       "      <td>0</td>\n",
       "      <td>0</td>\n",
       "      <td>0</td>\n",
       "      <td>0</td>\n",
       "      <td>0</td>\n",
       "      <td>0</td>\n",
       "      <td>...</td>\n",
       "      <td>0</td>\n",
       "      <td>0</td>\n",
       "      <td>0</td>\n",
       "      <td>0</td>\n",
       "      <td>0</td>\n",
       "      <td>0</td>\n",
       "      <td>0</td>\n",
       "      <td>0</td>\n",
       "      <td>0</td>\n",
       "      <td>-0.99</td>\n",
       "    </tr>\n",
       "    <tr>\n",
       "      <th>2</th>\n",
       "      <td>0</td>\n",
       "      <td>1</td>\n",
       "      <td>0</td>\n",
       "      <td>0</td>\n",
       "      <td>0</td>\n",
       "      <td>0</td>\n",
       "      <td>0</td>\n",
       "      <td>0</td>\n",
       "      <td>0</td>\n",
       "      <td>0</td>\n",
       "      <td>...</td>\n",
       "      <td>0</td>\n",
       "      <td>0</td>\n",
       "      <td>0</td>\n",
       "      <td>0</td>\n",
       "      <td>0</td>\n",
       "      <td>0</td>\n",
       "      <td>0</td>\n",
       "      <td>0</td>\n",
       "      <td>0</td>\n",
       "      <td>2.37</td>\n",
       "    </tr>\n",
       "    <tr>\n",
       "      <th>3</th>\n",
       "      <td>0</td>\n",
       "      <td>1</td>\n",
       "      <td>0</td>\n",
       "      <td>0</td>\n",
       "      <td>0</td>\n",
       "      <td>0</td>\n",
       "      <td>0</td>\n",
       "      <td>0</td>\n",
       "      <td>0</td>\n",
       "      <td>0</td>\n",
       "      <td>...</td>\n",
       "      <td>0</td>\n",
       "      <td>0</td>\n",
       "      <td>0</td>\n",
       "      <td>0</td>\n",
       "      <td>0</td>\n",
       "      <td>0</td>\n",
       "      <td>0</td>\n",
       "      <td>0</td>\n",
       "      <td>0</td>\n",
       "      <td>1.80</td>\n",
       "    </tr>\n",
       "    <tr>\n",
       "      <th>4</th>\n",
       "      <td>0</td>\n",
       "      <td>1</td>\n",
       "      <td>0</td>\n",
       "      <td>0</td>\n",
       "      <td>0</td>\n",
       "      <td>0</td>\n",
       "      <td>0</td>\n",
       "      <td>0</td>\n",
       "      <td>0</td>\n",
       "      <td>0</td>\n",
       "      <td>...</td>\n",
       "      <td>0</td>\n",
       "      <td>0</td>\n",
       "      <td>0</td>\n",
       "      <td>0</td>\n",
       "      <td>0</td>\n",
       "      <td>0</td>\n",
       "      <td>0</td>\n",
       "      <td>0</td>\n",
       "      <td>0</td>\n",
       "      <td>0.60</td>\n",
       "    </tr>\n",
       "  </tbody>\n",
       "</table>\n",
       "<p>5 rows × 2049 columns</p>\n",
       "</div>"
      ],
      "text/plain": [
       "   fp1  fp2  fp3  fp4  fp5  fp6  fp7  fp8  fp9  fp10  ...  fp2040  fp2041  \\\n",
       "0    0    0    0    0    0    0    0    0    0     0  ...       0       0   \n",
       "1    0    0    0    0    0    0    0    0    0     0  ...       0       0   \n",
       "2    0    1    0    0    0    0    0    0    0     0  ...       0       0   \n",
       "3    0    1    0    0    0    0    0    0    0     0  ...       0       0   \n",
       "4    0    1    0    0    0    0    0    0    0     0  ...       0       0   \n",
       "\n",
       "   fp2042  fp2043  fp2044  fp2045  fp2046  fp2047  fp2048  Activity  \n",
       "0       0       0       0       0       0       0       0      2.28  \n",
       "1       0       0       0       0       0       0       0     -0.99  \n",
       "2       0       0       0       0       0       0       0      2.37  \n",
       "3       0       0       0       0       0       0       0      1.80  \n",
       "4       0       0       0       0       0       0       0      0.60  \n",
       "\n",
       "[5 rows x 2049 columns]"
      ]
     },
     "execution_count": 37,
     "metadata": {},
     "output_type": "execute_result"
    }
   ],
   "source": [
    "concatenated_df.head()"
   ]
  },
  {
   "cell_type": "code",
   "execution_count": null,
   "id": "f9abf35f",
   "metadata": {},
   "outputs": [],
   "source": []
  },
  {
   "cell_type": "code",
   "execution_count": 39,
   "id": "bcdf4bdd",
   "metadata": {},
   "outputs": [
    {
     "name": "stdout",
     "output_type": "stream",
     "text": [
      "Shape of X: (3351, 2048)\n",
      "Shape of y: (3351,)\n"
     ]
    }
   ],
   "source": [
    "import pandas as pd\n",
    "\n",
    "# Assuming you have a DataFrame named \"combined_df\" with columns \"fp1\" to \"fp2048\" and a column \"Activity\"\n",
    "\n",
    "# Extract the features (X) from combined_df\n",
    "X = concatenated_df.loc[:, 'fp1':'fp2048']\n",
    "\n",
    "# Extract the target variable (y) from combined_df\n",
    "y = concatenated_df.iloc[:, -1]\n",
    "\n",
    "# Verify the shapes of X and y\n",
    "print(f\"Shape of X: {X.shape}\")\n",
    "print(f\"Shape of y: {y.shape}\")\n"
   ]
  },
  {
   "cell_type": "code",
   "execution_count": null,
   "id": "2497b6d3",
   "metadata": {},
   "outputs": [],
   "source": []
  },
  {
   "cell_type": "code",
   "execution_count": null,
   "id": "95f1a514",
   "metadata": {},
   "outputs": [],
   "source": []
  },
  {
   "cell_type": "code",
   "execution_count": null,
   "id": "709d4926",
   "metadata": {},
   "outputs": [],
   "source": []
  },
  {
   "cell_type": "code",
   "execution_count": 40,
   "id": "7243048a",
   "metadata": {},
   "outputs": [],
   "source": [
    "from sklearn.model_selection import GridSearchCV, train_test_split\n",
    "from sklearn.linear_model import LinearRegression\n",
    "from sklearn.tree import DecisionTreeRegressor\n",
    "from sklearn.ensemble import RandomForestRegressor\n",
    "from sklearn.metrics import mean_squared_error, r2_score"
   ]
  },
  {
   "cell_type": "code",
   "execution_count": 42,
   "id": "2bc51a1d",
   "metadata": {},
   "outputs": [],
   "source": [
    "X_train, X_val, y_train, y_val = train_test_split(X, y, test_size=0.2, random_state=42)"
   ]
  },
  {
   "cell_type": "code",
   "execution_count": 43,
   "id": "96c3aded",
   "metadata": {},
   "outputs": [],
   "source": [
    "models = [\n",
    "    ('Linear Regression', LinearRegression()),\n",
    "    ('Decision Tree Regression', DecisionTreeRegressor()),\n",
    "    ('Random Forest Regression', RandomForestRegressor())\n",
    "]"
   ]
  },
  {
   "cell_type": "code",
   "execution_count": 44,
   "id": "9d0b90c9",
   "metadata": {},
   "outputs": [],
   "source": [
    "param_grids = {\n",
    "    'Linear Regression': {},\n",
    "    'Decision Tree Regression': {'max_depth': [None, 10, 20]},\n",
    "    'Random Forest Regression': {'n_estimators': [100, 200], 'max_depth': [None, 10, 20]}\n",
    "}"
   ]
  },
  {
   "cell_type": "code",
   "execution_count": 45,
   "id": "1cf2c86e",
   "metadata": {},
   "outputs": [
    {
     "name": "stdout",
     "output_type": "stream",
     "text": [
      "Linear Regression R^2 Score: -1.241610380989785e+22\n",
      "Decision Tree Regression R^2 Score: 0.27027400688487\n",
      "Random Forest Regression R^2 Score: 0.48705795117987194\n",
      "Best Model: Random Forest Regression\n"
     ]
    }
   ],
   "source": [
    "best_model = None\n",
    "best_model_name = \"\"\n",
    "best_model_r2 = -float('inf')\n",
    "\n",
    "for name, model in models:\n",
    "    param_grid = param_grids[name]\n",
    "\n",
    "    # Perform hyperparameter tuning using GridSearchCV\n",
    "    grid_search = GridSearchCV(model, param_grid, cv=5, scoring='r2')\n",
    "    grid_search.fit(X_train, y_train)\n",
    "\n",
    "    # Evaluate the model on the validation set\n",
    "    y_val_pred = grid_search.predict(X_val)\n",
    "    r2 = r2_score(y_val, y_val_pred)\n",
    "    print(f\"{name} R^2 Score: {r2}\")\n",
    "\n",
    "    # Update the best model if the current model performs better\n",
    "    if r2 > best_model_r2:\n",
    "        best_model_r2 = r2\n",
    "        best_model = grid_search.best_estimator_\n",
    "        best_model_name = name\n",
    "\n",
    "print(f\"Best Model: {best_model_name}\")"
   ]
  },
  {
   "cell_type": "code",
   "execution_count": 46,
   "id": "29b7fbda",
   "metadata": {},
   "outputs": [],
   "source": [
    "y_test_pred = best_model.predict(jit_test)\n",
    "#test_r2 = r2_score(test_targets, y_test_pred)\n",
    "#print(f\"Test Set R^2 Score: {test_r2}\")"
   ]
  },
  {
   "cell_type": "code",
   "execution_count": 47,
   "id": "c9340949",
   "metadata": {},
   "outputs": [
    {
     "data": {
      "text/plain": [
       "array([ 2.1219    ,  0.0208    ,  3.0931    ,  1.6721    ,  2.568     ,\n",
       "        1.7408    ,  0.591075  ,  0.69915833,  2.438     ,  1.6722    ,\n",
       "        2.8986    ,  3.1997    ,  2.77036667,  2.54865   ,  2.1452    ,\n",
       "        1.8768    ,  1.13606667,  3.1205    ,  2.1864    ,  0.8248    ,\n",
       "        1.6632    ,  1.9405    ,  1.7886    ,  2.62835   ,  0.4343    ,\n",
       "        2.0114    ,  3.4792    ,  1.676     ,  0.35      ,  2.8187    ,\n",
       "        2.0651    ,  2.17223333,  2.65411167,  0.82674667, -0.2156    ,\n",
       "        1.8388    ,  3.1793125 ,  1.852325  ,  2.5585    ,  2.76876667,\n",
       "        2.2394    ,  2.0566    ,  1.5371    ,  2.4485    ,  1.0415    ,\n",
       "        3.139375  ,  3.2503    ,  2.8725    ,  1.2978    ,  3.2457    ,\n",
       "        0.9532    ,  3.02198667, -0.182     ,  2.9974    ,  2.2496    ,\n",
       "        1.9255    ,  1.7264    ,  2.83253333,  3.3955    ,  2.3551    ,\n",
       "        2.3551    ,  2.9646    ,  2.0707    ,  2.36      ,  2.0195    ,\n",
       "        2.40675833,  0.4103    ,  3.17455   ,  2.82733333,  2.3794    ,\n",
       "        3.3765    ,  2.22233333,  2.7313    ,  1.50305   ,  0.99732   ,\n",
       "        2.37435   ,  2.00373333,  1.6377    ,  1.32105   ,  2.7444    ,\n",
       "        1.59768667,  2.26123333,  2.691175  ,  1.357     ,  3.0541    ,\n",
       "        1.3933    ,  2.7421    ,  2.2554    ,  2.6717    ,  1.5597    ,\n",
       "        2.2469    ,  2.0956    ,  0.95571667,  1.5288    ,  1.5977    ,\n",
       "        2.4991    ,  3.3065    ,  3.3764    ,  2.62026667,  2.80048333,\n",
       "        2.5834    ,  2.87752   ,  0.88960667,  2.1575    ,  4.00265   ,\n",
       "        2.85      ,  2.91373333,  2.4517    ,  2.76255   ,  0.85406   ,\n",
       "        2.1976    ,  0.9198    ,  3.09756   ,  1.8186    ,  2.4654    ,\n",
       "        1.6734    ,  2.51752   ,  2.82935   ,  0.44108   ,  2.35705   ,\n",
       "        2.6414    ,  2.09842   ,  2.3889    ,  2.9269    ,  2.7733    ,\n",
       "        2.467     ,  2.3603    ,  2.2264    ,  1.7549    ,  2.54093   ,\n",
       "        1.2804    ,  3.1181881 ,  2.3016    ,  2.9584    ,  2.8531    ,\n",
       "        2.9399    ,  1.56373333,  3.53605   ,  2.1465    ,  3.0815    ,\n",
       "        2.3244    ,  3.0435    ,  2.17786667,  2.103     ,  3.35281667,\n",
       "        2.8007    ,  2.513     ,  2.2365    ,  2.90793333,  3.6453    ,\n",
       "        2.9026    ,  3.0429    ,  2.6356    ,  2.8236    ,  2.5847    ,\n",
       "        2.1716    ,  2.45643333,  2.66136667,  3.2152    ,  2.52493333,\n",
       "        2.4491    ,  2.2813    ,  1.8796    ,  2.313     ,  2.5195    ,\n",
       "       -0.18120833,  3.1215    ,  2.4836    ,  2.42113333,  1.1868    ,\n",
       "        2.2197    ,  3.0551    ,  2.9023    ,  1.9902    ,  2.6131    ,\n",
       "        2.6268    ,  3.4599    ,  2.0388    ,  3.0013    ,  2.60835   ,\n",
       "        2.8352    ,  3.0539    ,  1.1066    ,  2.86375   ,  1.7303    ,\n",
       "        3.0002    ,  2.4346    ,  2.50125   ,  0.9083    ,  2.7345    ,\n",
       "        2.9553    ,  2.47023333,  2.21098333,  2.4188    ,  0.99732   ,\n",
       "        3.1161    ,  2.7955    ,  1.6597    ,  2.4671    ,  1.4387    ,\n",
       "        1.8716    ,  2.41923   ,  1.87586667,  2.3673    ,  2.6651    ,\n",
       "        2.4693    ,  2.0927    ,  2.1243    ,  2.0754    ,  3.2081    ,\n",
       "        2.59908667,  1.74935   ,  3.1885    ,  1.87335   , -0.0854    ,\n",
       "        2.1584    ,  2.9274    ,  2.54553333,  2.4388    ,  1.189     ,\n",
       "        2.0519    ,  1.2402    ,  1.7988    ,  2.1672    ,  2.18825   ,\n",
       "        2.5232    ,  2.2031    ,  2.47676   ,  1.8608    ,  2.5287    ,\n",
       "        2.887     ,  0.0569    ,  2.9858    ,  1.1182    ,  1.702     ,\n",
       "        2.5624    ,  1.90503333,  2.1595    ,  2.56215   ,  1.3674    ,\n",
       "        3.0675    ,  3.0854    ,  1.9071    ,  3.0552    , -0.2381    ,\n",
       "        2.67365   ,  2.51856667,  3.2783    ,  2.607     ,  2.0547    ,\n",
       "        2.89486667,  2.5257    ,  1.2599    ,  1.38266667,  1.37959167,\n",
       "        0.6667    ,  2.85408   ,  2.8285    ,  1.6845    ,  2.83183333,\n",
       "        3.1634    ,  2.0843    ,  2.60346667,  2.3801    ,  2.5493    ,\n",
       "        2.6131    ,  3.13053333,  3.3356    ,  2.7657    ,  2.0697    ,\n",
       "        2.5051    ,  2.34043333,  2.39095   ,  2.70476667,  2.52033333,\n",
       "        2.7551    ,  1.6682    ,  2.15403333,  1.88018333,  3.02369417,\n",
       "        2.33786667,  2.3603    ,  2.28995   ,  2.88166667,  2.8836    ,\n",
       "        1.4204    ,  3.85403333,  2.20955   ,  1.996475  ,  2.1833    ,\n",
       "        2.472405  ,  1.6279    ,  1.652025  ,  2.4493    ,  0.74598667,\n",
       "        2.3195    ,  2.1324    ,  2.7747    ,  1.9797    ,  3.5047    ,\n",
       "       -0.1416    ,  2.45418833,  2.8744    ,  2.7053    ,  2.88539   ,\n",
       "        1.447     ,  2.5799    ,  1.64      ,  3.3072    ,  2.2548    ,\n",
       "        1.17983333,  2.086     ,  1.9345    ,  1.1411    ,  1.2906    ,\n",
       "        2.38986667,  2.118355  ,  2.2395    ,  2.1463    ,  1.4724    ,\n",
       "        1.02965   ,  1.74625   ,  2.8623    ,  2.1014    ,  2.5981    ,\n",
       "        2.3298    ,  2.28035   ,  3.00852   ,  3.24505   ,  2.50663333,\n",
       "        3.24235   ,  2.2753    ,  2.2653    ,  1.83316667,  2.22593333,\n",
       "        2.9157    ,  2.63403333,  2.7922    ,  2.72948333,  2.9521    ,\n",
       "        2.4972    ,  2.6567    ,  2.6059    ,  0.8164    ,  3.1829    ,\n",
       "        2.1676    ,  1.6875    ,  2.4035    ,  2.0626    ,  1.5701    ,\n",
       "        0.80339381,  1.9576    ,  2.72616667,  2.18665   ,  2.52111667,\n",
       "        1.333025  ,  1.9797    ,  0.8975    ,  3.2772    ,  2.7911    ,\n",
       "        2.506475  ,  1.5896    ,  1.8168    ,  3.50373333,  2.8888    ,\n",
       "        2.9822    ,  1.47735   ,  2.6278    ,  2.2172    ,  2.5257    ,\n",
       "        0.83241417,  1.5048    ,  2.60072   ,  2.2425    ,  3.2665    ,\n",
       "        2.9426    ,  3.28895714,  2.0116    ,  2.3747    ,  2.7022    ,\n",
       "        3.0097    ,  1.669     ,  2.29542   ,  0.3493    ,  2.8896    ,\n",
       "        1.847     , -0.7972    ,  2.84315833,  2.51      ,  2.1401    ,\n",
       "        2.4289    ,  1.847     ,  2.9811    ,  1.0133    ,  2.0961    ,\n",
       "        2.75896667,  2.7631    ,  3.3255    ,  1.54      ,  2.67775   ,\n",
       "        2.50325   ,  2.4428    ,  1.064525  ,  2.3651    ,  1.9081    ,\n",
       "        0.56286667,  2.283375  ,  2.8714    ,  2.54323   ,  1.9573    ,\n",
       "        2.74622   ,  2.4173    ,  2.5168    ,  2.98446667,  2.43795   ,\n",
       "        1.11486667,  1.4188    , -0.7604    ,  3.02039   ,  1.33035   ,\n",
       "        1.3075    ,  0.9679    ,  1.6578    ,  0.2326    ,  3.1201    ,\n",
       "        2.9735    ,  1.1628    ,  3.09428333,  2.42323333,  2.97413333,\n",
       "        1.1429    ,  1.0666    ,  3.4893    ,  1.8596    ,  2.5227    ,\n",
       "        2.7616    ,  2.074     ,  1.5301    ,  2.7473381 ,  1.7945    ,\n",
       "        1.1657    ,  0.97986667,  3.01036667,  1.9377    ,  1.2242    ,\n",
       "        2.9853    ,  2.5258    ,  2.9276    ,  1.9113    ,  2.3757    ,\n",
       "        1.99578667,  2.4155    ,  3.21723333,  2.4595    ,  1.7425    ,\n",
       "        2.23495   ,  1.60316667,  2.1594    ,  2.7549    ,  1.06856833,\n",
       "        2.5284    ,  3.1204    ,  1.94085   ,  2.4391    ,  3.22948333,\n",
       "        2.8839    ,  2.86805   ,  1.5831    ,  2.37413333,  2.57755   ,\n",
       "        2.5865    ,  3.29543333,  1.6647    ,  1.13092778,  1.9726    ,\n",
       "        2.4747    ,  3.00562   ,  0.3884    ,  3.02813333,  2.7577    ,\n",
       "        2.7797    ,  2.0566    ,  2.0431    ,  1.657     ,  2.6442    ,\n",
       "        2.60986667, -0.15968333,  2.8882    ,  1.388975  ,  2.495     ,\n",
       "        3.0533    ,  3.1718    ,  2.9555    ,  2.16385   ,  2.6972    ,\n",
       "        2.8924    ,  2.4545    ,  2.733575  ,  2.8564    ,  1.8511    ,\n",
       "        0.8421    ,  2.168     ,  3.5974    ,  0.92966667, -0.7543    ,\n",
       "        3.34482   ,  2.31286667,  1.4564    ,  2.03195   ,  1.7233    ,\n",
       "        2.9442    ,  3.1075    ,  2.1906    ,  1.6414    ,  2.75655833,\n",
       "        1.8081    ,  2.2548    ,  2.3778    ,  2.2948    ,  3.3488    ,\n",
       "        2.3589    ,  3.38093333,  2.0902    ,  2.8159    ,  1.469     ,\n",
       "        2.9955    ,  1.7368    ,  2.8472    ,  2.6574    ,  3.3585    ,\n",
       "        1.689     ,  2.3165    ,  2.1113    ,  1.9534    ,  1.5836    ,\n",
       "        1.9942    ,  1.8334    ,  3.0787    ,  2.54556667,  1.696     ,\n",
       "        1.3007    ,  3.3094    ,  1.7984    ,  2.98909893,  2.8398    ,\n",
       "        2.3905    ,  2.8805    ,  2.83523333,  2.2675    ,  1.8294    ,\n",
       "        1.63203333,  2.3716    ,  2.9673    ,  1.5162    ,  1.8262    ,\n",
       "        2.4757    ,  3.2755    ,  2.0402    ,  1.9755    ,  2.8904    ,\n",
       "        3.6305    ,  2.68438333,  2.7424    ,  2.0994    ,  1.8085    ,\n",
       "       -0.0108    ,  1.5948    ,  2.27309   ,  2.59505   ,  2.567     ,\n",
       "        1.4984    ,  2.2884    ,  2.6864    ,  2.9618    ,  2.1426    ,\n",
       "        2.59266667,  1.73625   ,  1.96343333,  0.93309167,  2.0708    ,\n",
       "        0.8164    ,  2.8154    ,  2.8336    ,  2.8599    ,  1.3229    ,\n",
       "        2.0981    ,  2.37303167,  1.9301    ,  2.3984    ,  1.5744    ,\n",
       "        2.4468    ,  2.639275  ,  3.1129    ,  2.44799   ,  2.6688    ,\n",
       "        1.595     ,  2.89583333,  2.2602    ,  3.4461    ,  2.09535   ,\n",
       "        3.3292    ,  2.5115    ,  1.7763    ,  2.5459    ,  1.468     ,\n",
       "        2.84141667,  2.6049    ,  3.2129    ,  1.3071    ,  2.4804    ,\n",
       "        2.0744    ,  2.0106    ,  3.5246    ,  2.30365   ,  1.3027    ,\n",
       "        3.5099    ,  2.9246    ,  2.769     ,  1.7847    ,  2.24355   ,\n",
       "        1.6355    ,  1.48723333,  2.05896667,  2.7456    ,  3.01616667,\n",
       "       -0.1416    ,  1.8864    ,  2.43203333,  1.50962667,  2.6181    ,\n",
       "        2.932     ,  2.4404    ,  2.72216   ,  1.5599    ,  2.45573333,\n",
       "        2.42426   ,  1.43276667,  2.8274    ,  2.1675    ,  2.3908    ,\n",
       "        1.3129    ,  1.587     ,  1.48126333,  2.0005    ,  1.2088    ,\n",
       "        2.6521    ,  3.8579    ,  1.2661    ,  1.95261333,  2.3       ,\n",
       "        1.9255    ,  2.6205    ,  2.9591    ,  2.4383    ,  2.1269    ,\n",
       "        3.1087    ,  2.6767    ,  3.1339    ,  2.35215   ,  2.3643    ,\n",
       "        2.49867667,  2.4347    ,  3.1758    ,  1.4491    ,  2.6343    ,\n",
       "        3.6087    ,  2.8457    ,  3.6575    ,  2.2354    ,  1.74105   ,\n",
       "        3.01615   ,  1.1304    ,  2.7828    ,  2.9354    ,  2.50673333,\n",
       "        1.255     ,  1.1934    ,  2.1047    ,  2.4789    ,  1.8163    ,\n",
       "        3.4513    ,  2.91393333,  1.9404    ,  2.40263333,  3.327     ,\n",
       "        2.2263    ,  1.9805    ,  2.9441    ,  1.9855    ,  2.407     ,\n",
       "        2.0771    ,  1.96485   ,  3.5466    ,  1.5606    ,  1.07829345,\n",
       "        1.4804    ,  2.71463333,  3.4454    ,  2.5971    ,  2.71163333,\n",
       "        2.61138   ,  1.90175   ,  2.99111667,  1.0651    ,  2.39173333,\n",
       "        2.3625    ,  3.13645   ,  0.1175    ,  3.3984    ,  2.2679    ,\n",
       "        0.714     ,  2.53936667,  3.0002    ,  2.1523    ,  2.07518333,\n",
       "        3.0559    ,  1.1395    ,  1.8944    ,  2.40443333,  2.47857143,\n",
       "        1.3665    ,  2.9292    ,  2.6022    ,  2.4213    ,  2.5376    ,\n",
       "        2.6028    ,  2.7487    ,  1.5367    ,  1.7846    ,  3.1524    ,\n",
       "        1.94906667,  2.6407    ,  2.5986    ,  0.908725  ,  2.6538    ,\n",
       "        1.849     ,  2.069     ,  2.25826667,  2.7236    ,  3.0861    ,\n",
       "        2.4596    ,  2.2738    ,  1.8489    ,  1.1361    ,  3.0199    ,\n",
       "        2.5021    ,  1.6503    ,  3.13898333,  3.25293131,  2.33      ,\n",
       "        2.6942    ,  1.8785    ,  1.919125  ,  2.0189    ,  3.1281    ,\n",
       "        1.76075   ,  2.36003333,  1.9166    ,  2.3811    ,  0.82674667,\n",
       "        3.0918    ,  0.849     ,  3.0636    ,  2.41746667,  0.64490667,\n",
       "        1.6964    ,  2.2436    ,  2.0911    ,  0.4248    ,  2.61115   ,\n",
       "        1.9888    ,  2.8754    ,  0.96573333,  2.62228333,  3.1957    ,\n",
       "        1.4461    ,  1.7595    ,  2.63493333,  2.9036    , -0.5638    ,\n",
       "        2.4167    ,  1.9994    ,  0.83261333,  1.65871   ,  2.7216    ,\n",
       "        1.2125    ,  2.0738    ,  2.92105   ,  1.748     ,  2.0365    ,\n",
       "        2.3102    ,  3.3449    ,  2.94973333,  2.019     ,  3.73263333,\n",
       "        2.7977    , -0.06471889, -0.3573    ,  2.7271    ,  2.657     ,\n",
       "        2.5982    ,  2.8503    ,  2.77842   ,  2.72581667,  2.1481    ,\n",
       "        2.3276    ,  3.2403    ,  2.6763    ,  1.2215    ,  2.3423    ,\n",
       "        2.5051    ,  2.7188    ,  3.0628    ,  2.3218    ,  2.896575  ,\n",
       "        3.0564    ,  2.2086    ,  2.33735   ,  2.54193333,  1.8211    ,\n",
       "        2.356     ,  1.3652    ,  2.9699    ,  3.1807    ,  1.9404    ,\n",
       "        2.052     ,  3.1477    ,  3.242     ,  1.5398    ,  2.44743333,\n",
       "        2.4211    ,  2.28065   ,  2.24634   ,  2.4555    ,  2.64      ,\n",
       "        3.2335    ,  0.208     ])"
      ]
     },
     "execution_count": 47,
     "metadata": {},
     "output_type": "execute_result"
    }
   ],
   "source": [
    "y_test_pred"
   ]
  },
  {
   "cell_type": "code",
   "execution_count": 48,
   "id": "2d09e095",
   "metadata": {},
   "outputs": [
    {
     "data": {
      "text/plain": [
       "837"
      ]
     },
     "execution_count": 48,
     "metadata": {},
     "output_type": "execute_result"
    }
   ],
   "source": [
    "len(y_test_pred)"
   ]
  },
  {
   "cell_type": "code",
   "execution_count": null,
   "id": "8f1e20b0",
   "metadata": {},
   "outputs": [],
   "source": []
  }
 ],
 "metadata": {
  "kernelspec": {
   "display_name": "Python 3 (ipykernel)",
   "language": "python",
   "name": "python3"
  },
  "language_info": {
   "codemirror_mode": {
    "name": "ipython",
    "version": 3
   },
   "file_extension": ".py",
   "mimetype": "text/x-python",
   "name": "python",
   "nbconvert_exporter": "python",
   "pygments_lexer": "ipython3",
   "version": "3.11.4"
  }
 },
 "nbformat": 4,
 "nbformat_minor": 5
}
